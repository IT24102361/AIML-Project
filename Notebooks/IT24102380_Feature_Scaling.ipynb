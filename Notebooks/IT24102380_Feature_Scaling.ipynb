{
  "nbformat": 4,
  "nbformat_minor": 0,
  "metadata": {
    "colab": {
      "provenance": []
    },
    "kernelspec": {
      "name": "python3",
      "display_name": "Python 3"
    },
    "language_info": {
      "name": "python"
    }
  },
  "cells": [
    {
      "cell_type": "code",
      "execution_count": null,
      "metadata": {
        "id": "CpTI-mURt_Za"
      },
      "outputs": [],
      "source": [
        "import numpy as np\n",
        "import pandas as pd\n",
        "\n",
        "before_n = len(df)\n",
        "\n",
        "# 1) Sanity ranges for common survey scales (adjust if your dataset differs)\n",
        "scale_0_10_cols = [\"Academic Pressure\",\"Work Pressure\",\"Financial Stress\",\"CGPA\"]\n",
        "for col in scale_0_10_cols:\n",
        "    if col in df.columns:\n",
        "        df[col] = pd.to_numeric(df[col], errors=\"coerce\")\n",
        "        df = df[df[col].between(0, 10)]\n",
        "\n",
        "# 2) No negatives and reasonable caps\n",
        "non_negative_cols = [\"Age\",\"Work/Study Hours\"]\n",
        "for col in non_negative_cols:\n",
        "    if col in df.columns:\n",
        "        df[col] = pd.to_numeric(df[col], errors=\"coerce\")\n",
        "        df = df[df[col] >= 0]\n",
        "\n",
        "# 3) IQR filter for Work/Study Hours (robust outlier removal)\n",
        "col = \"Work/Study Hours\"\n",
        "if col in df.columns:\n",
        "    q1, q3 = df[col].quantile([0.25, 0.75])\n",
        "    iqr = q3 - q1\n",
        "    lower = max(0, q1 - 1.5*iqr)   # don’t allow negative hours\n",
        "    upper = min(24, q3 + 1.5*iqr)  # keep logical cap\n",
        "    df = df[df[col].between(lower, upper)]\n",
        "\n",
        "# 4) (Optional) IQR filter for Age (still respecting 10–60)\n",
        "col = \"Age\"\n",
        "if col in df.columns:\n",
        "    q1, q3 = df[col].quantile([0.25, 0.75])\n",
        "    iqr = q3 - q1\n",
        "    lower = max(10, q1 - 1.5*iqr)\n",
        "    upper = min(60, q3 + 1.5*iqr)\n",
        "    df = df[df[col].between(lower, upper)]\n",
        "\n",
        "df = df.reset_index(drop=True)\n",
        "\n",
        "after_n = len(df)\n",
        "print(f\"Extra filtering removed {before_n - after_n} rows. Remaining: {after_n}\")"
      ]
    },
    {
      "cell_type": "code",
      "source": [
        "import matplotlib.pyplot as plt\n",
        "import seaborn as sns\n",
        "\n",
        "# 1. Basic Info\n",
        "print(\"Dataset shape:\", df.shape)\n",
        "print(\"\\nColumn types:\\n\", df.dtypes)\n",
        "print(\"\\nMissing values:\\n\", df.isnull().sum())\n",
        "\n",
        "if \"Depression\" in df.columns:\n",
        "    plt.figure(figsize=(6,4))\n",
        "    sns.boxplot(x=\"Sleep Duration\", y=\"Depression\", data=df)\n",
        "    plt.title(\"Sleep Duration vs Depression\")\n",
        "    plt.show()"
      ],
      "metadata": {
        "id": "yY5DyE9ouHwd"
      },
      "execution_count": null,
      "outputs": []
    }
  ]
}