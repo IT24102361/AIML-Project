{
  "nbformat": 4,
  "nbformat_minor": 0,
  "metadata": {
    "colab": {
      "provenance": []
    },
    "kernelspec": {
      "name": "python3",
      "display_name": "Python 3"
    },
    "language_info": {
      "name": "python"
    }
  },
  "cells": [
    {
      "cell_type": "code",
      "execution_count": null,
      "metadata": {
        "id": "lFSZwryNlzos"
      },
      "outputs": [],
      "source": [
        "import numpy as np\n",
        "from sklearn.preprocessing import OrdinalEncoder\n",
        "\n",
        "# -------------------------------\n",
        "# Clean & standardize category text\n",
        "# -------------------------------\n",
        "def _norm(s):\n",
        "    if pd.isna(s): return np.nan\n",
        "    return str(s).strip().lower()\n",
        "\n",
        "# Standardize Sleep Duration\n",
        "sleep_map = {\n",
        "    '<5 hours': '<5 hours',\n",
        "    'less than 5 hours': '<5 hours',\n",
        "    '5-6 hours': '5-6 hours',\n",
        "    '6-7 hours': '6-7 hours',\n",
        "    '7-8 hours': '7-8 hours',\n",
        "    '>8 hours': '>8 hours',\n",
        "    'more than 8 hours': '>8 hours',\n",
        "    'others': np.nan,   # treat 'Others' as missing; will impute below\n",
        "    'other': np.nan\n",
        "}\n",
        "\n",
        "df['Sleep Duration'] = df['Sleep Duration'].map(_norm).map(sleep_map)\n",
        "\n",
        "# If any remain unmapped (unexpected spellings), set to NaN\n",
        "valid_sleep = {'<5 hours','5-6 hours','6-7 hours','7-8 hours','>8 hours'}\n",
        "df.loc[~df['Sleep Duration'].isin(valid_sleep), 'Sleep Duration'] = np.nan\n",
        "\n",
        "# Impute missing Sleep Duration with the mode (most frequent)\n",
        "if df['Sleep Duration'].isna().any():\n",
        "    mode_sleep = df['Sleep Duration'].mode(dropna=True)\n",
        "    if not mode_sleep.empty:\n",
        "        df['Sleep Duration'].fillna(mode_sleep.iloc[0], inplace=True)\n",
        "\n",
        "# Standardize Dietary Habits\n",
        "diet_map = {\n",
        "    'unhealthy': 'Unhealthy',\n",
        "    'poor': 'Unhealthy',\n",
        "    'avg': 'Average',\n",
        "    'average': 'Average',\n",
        "    'moderate': 'Average',\n",
        "    'healthy': 'Healthy'\n",
        "}\n",
        "df['Dietary Habits'] = df['Dietary Habits'].map(_norm).map(diet_map)\n",
        "\n",
        "# If any remain unmapped, set to NaN then impute with mode\n",
        "valid_diet = {'Unhealthy','Average','Healthy'}\n",
        "df.loc[~df['Dietary Habits'].isin(valid_diet), 'Dietary Habits'] = np.nan\n",
        "if df['Dietary Habits'].isna().any():\n",
        "    mode_diet = df['Dietary Habits'].mode(dropna=True)\n",
        "    if not mode_diet.empty:\n",
        "        df['Dietary Habits'].fillna(mode_diet.iloc[0], inplace=True)\n",
        "\n",
        "# -------------------------------\n",
        "# Ordinal encoding (robust to leftovers)\n",
        "# -------------------------------\n",
        "sleep_order = [\"<5 hours\", \"5-6 hours\", \"6-7 hours\", \"7-8 hours\", \">8 hours\"]\n",
        "diet_order  = [\"Unhealthy\", \"Average\", \"Healthy\"]\n",
        "\n",
        "# Use handle_unknown to guard against any rare leftover text\n",
        "ord_enc = OrdinalEncoder(\n",
        "    categories=[sleep_order, diet_order],\n",
        "    handle_unknown='use_encoded_value',\n",
        "    unknown_value=-1\n",
        ")\n",
        "\n",
        "df[[\"Sleep Duration\", \"Dietary Habits\"]] = ord_enc.fit_transform(\n",
        "    df[[\"Sleep Duration\", \"Dietary Habits\"]]\n",
        ")\n",
        "\n",
        "print(\"Encoded categories OK. Unique values now are:\")\n",
        "print(\"Sleep Duration:\", sorted(df[\"Sleep Duration\"].unique()))\n",
        "print(\"Dietary Habits:\", sorted(df[\"Dietary Habits\"].unique()))"
      ]
    },
    {
      "cell_type": "code",
      "source": [
        "import matplotlib.pyplot as plt\n",
        "import seaborn as sns\n",
        "\n",
        "# 1. Basic Info\n",
        "print(\"Dataset shape:\", df.shape)\n",
        "print(\"\\nColumn types:\\n\", df.dtypes)\n",
        "print(\"\\nMissing values:\\n\", df.isnull().sum())\n",
        "\n",
        "if \"Depression\" in df.columns:\n",
        "    plt.figure(figsize=(6,4))\n",
        "    sns.countplot(x=\"Depression\", data=df, palette=\"Set2\")\n",
        "    plt.title(\"Depression Level Counts\")\n",
        "    plt.show()"
      ],
      "metadata": {
        "id": "KJ_6T-t4of35"
      },
      "execution_count": null,
      "outputs": []
    }
  ]
}