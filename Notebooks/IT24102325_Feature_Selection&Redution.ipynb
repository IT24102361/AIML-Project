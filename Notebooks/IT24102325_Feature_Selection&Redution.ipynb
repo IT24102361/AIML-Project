{
  "nbformat": 4,
  "nbformat_minor": 0,
  "metadata": {
    "colab": {
      "provenance": []
    },
    "kernelspec": {
      "name": "python3",
      "display_name": "Python 3"
    },
    "language_info": {
      "name": "python"
    }
  },
  "cells": [
    {
      "cell_type": "code",
      "execution_count": null,
      "metadata": {
        "id": "1j6MBlO-wJ59"
      },
      "outputs": [],
      "source": [
        "# -------------------------------\n",
        "# STEP: PCA (Dimensionality Reduction)\n",
        "# -------------------------------\n",
        "from sklearn.decomposition import PCA\n",
        "\n",
        "# Keep only numeric columns for PCA\n",
        "numeric_df = df.select_dtypes(include=[np.number])\n",
        "\n",
        "pca = PCA(n_components=0.95)  # keep 95% variance\n",
        "pca_data = pca.fit_transform(numeric_df)\n",
        "\n",
        "print(\"Original shape:\", numeric_df.shape)\n",
        "print(\"Reduced shape (PCA):\", pca_data.shape)\n",
        "\n",
        "# Convert PCA result back to DataFrame\n",
        "df_pca = pd.DataFrame(pca_data, columns=[f\"PC{i+1}\" for i in range(pca_data.shape[1])])\n",
        "\n",
        "# Save PCA-transformed dataset\n",
        "df_pca[\"Depression\"] = df[\"Depression\"].values  # keep target\n",
        "df_pca.to_csv(\"step6_pca_features.csv\", index=False)\n"
      ]
    },
    {
      "cell_type": "code",
      "source": [
        "# -------------------------------\n",
        "# STEP: PCA Visualization\n",
        "# -------------------------------\n",
        "import matplotlib.pyplot as plt\n",
        "import seaborn as sns\n",
        "\n",
        "# 1. Explained variance ratio (how much info each PC holds)\n",
        "plt.figure(figsize=(8,5))\n",
        "plt.plot(range(1, len(pca.explained_variance_ratio_)+1),\n",
        "         pca.explained_variance_ratio_, marker='o')\n",
        "plt.title(\"Explained Variance Ratio per Principal Component\")\n",
        "plt.xlabel(\"Principal Component\")\n",
        "plt.ylabel(\"Variance Ratio\")\n",
        "plt.grid(True)\n",
        "plt.show()\n",
        "\n",
        "# 2. Cumulative variance explained\n",
        "plt.figure(figsize=(8,5))\n",
        "plt.plot(range(1, len(pca.explained_variance_ratio_)+1),\n",
        "         pca.explained_variance_ratio_.cumsum(), marker='o', color=\"green\")\n",
        "plt.title(\"Cumulative Explained Variance\")\n",
        "plt.xlabel(\"Number of Components\")\n",
        "plt.ylabel(\"Cumulative Variance Explained\")\n",
        "plt.grid(True)\n",
        "plt.show()\n",
        "\n",
        "# 3. Scatterplot of first 2 PCs, colored by Depression\n",
        "if \"Depression\" in df_pca.columns:\n",
        "    plt.figure(figsize=(8,6))\n",
        "    sns.scatterplot(\n",
        "        x=\"PC1\", y=\"PC2\",\n",
        "        hue=\"Depression\",\n",
        "        palette=\"Set1\",\n",
        "        data=df_pca,\n",
        "        alpha=0.7\n",
        "    )\n",
        "    plt.title(\"PCA - First Two Principal Components\")\n",
        "    plt.legend(title=\"Depression\")\n",
        "    plt.show()\n",
        "\n",
        "# 4. 3D scatterplot (optional) if more separation is needed\n",
        "from mpl_toolkits.mplot3d import Axes3D\n",
        "\n",
        "if df_pca.shape[1] > 3:  # check if we have at least PC3\n",
        "    fig = plt.figure(figsize=(10,7))\n",
        "    ax = fig.add_subplot(111, projection=\"3d\")\n",
        "    scatter = ax.scatter(\n",
        "        df_pca[\"PC1\"], df_pca[\"PC2\"], df_pca[\"PC3\"],\n",
        "        c=df_pca[\"Depression\"], cmap=\"Set1\", alpha=0.7\n",
        "    )\n",
        "    ax.set_xlabel(\"PC1\")\n",
        "    ax.set_ylabel(\"PC2\")\n",
        "    ax.set_zlabel(\"PC3\")\n",
        "    plt.title(\"3D PCA Scatterplot\")\n",
        "    plt.colorbar(scatter, label=\"Depression\")\n",
        "    plt.show()\n"
      ],
      "metadata": {
        "id": "PB5Vg8J8wRTv"
      },
      "execution_count": null,
      "outputs": []
    }
  ]
}