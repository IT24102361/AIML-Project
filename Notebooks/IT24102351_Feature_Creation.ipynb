{
  "nbformat": 4,
  "nbformat_minor": 0,
  "metadata": {
    "colab": {
      "provenance": []
    },
    "kernelspec": {
      "name": "python3",
      "display_name": "Python 3"
    },
    "language_info": {
      "name": "python"
    }
  },
  "cells": [
    {
      "cell_type": "code",
      "execution_count": null,
      "metadata": {
        "id": "ebMAy8rexszT"
      },
      "outputs": [],
      "source": [
        "# -------------------------------\n",
        "# STEP: Feature Engineering + Save CSV\n",
        "# -------------------------------\n",
        "import pandas as pd\n",
        "import numpy as np\n",
        "from google.colab import files\n",
        "\n",
        "added = []\n",
        "\n",
        "# Ensure required columns are numeric\n",
        "num_needed = [\n",
        "    \"Academic Pressure\", \"Work Pressure\", \"Financial Stress\",\n",
        "    \"Sleep Duration\", \"Work/Study Hours\"\n",
        "]\n",
        "for col in num_needed:\n",
        "    if col in df.columns:\n",
        "        df[col] = pd.to_numeric(df[col], errors=\"coerce\")\n",
        "\n",
        "# 1) Stress Index = Academic + Work + Financial stress\n",
        "needed_stress = [\"Academic Pressure\", \"Work Pressure\", \"Financial Stress\"]\n",
        "if all(c in df.columns for c in needed_stress):\n",
        "    df[\"Stress_Index\"] = df[\"Academic Pressure\"] + df[\"Work Pressure\"] + df[\"Financial Stress\"]\n",
        "    added.append(\"Stress_Index\")\n",
        "else:\n",
        "    missing = [c for c in needed_stress if c not in df.columns]\n",
        "    print(f\"[WARN] Skipped Stress_Index (missing columns: {missing})\")\n",
        "\n",
        "# 2) Sleep Quality = Sleep Duration + Work/Study Hours\n",
        "needed_sleep = [\"Sleep Duration\", \"Work/Study Hours\"]\n",
        "if all(c in df.columns for c in needed_sleep):\n",
        "    df[\"Sleep_Quality\"] = df[\"Sleep Duration\"] + df[\"Work/Study Hours\"]\n",
        "    added.append(\"Sleep_Quality\")\n",
        "else:\n",
        "    missing = [c for c in needed_sleep if c not in df.columns]\n",
        "    print(f\"[WARN] Skipped Sleep_Quality (missing columns: {missing})\")\n",
        "\n",
        "print(f\"Added engineered features: {added}\")\n",
        "print(df[[c for c in added if c in df.columns]].describe())\n",
        "\n",
        "# -------------------------------\n",
        "# SAVE & DOWNLOAD\n",
        "# -------------------------------\n",
        "out_path = \"student_depression_features.csv\"\n",
        "df.to_csv(out_path, index=False)\n",
        "print(f\"\\nSaved to: {out_path}  |  Shape: {df.shape}\")\n",
        "\n",
        "# Convert all boolean columns to 0 and 1\n",
        "df = df.astype({col: int for col in df.columns if df[col].dtype == 'bool'})\n",
        "\n",
        "# Double-check conversion\n",
        "print(df.dtypes.head(20))\n",
        "\n"
      ]
    },
    {
      "cell_type": "code",
      "source": [
        "sns.pairplot(df[[\"Age\",\"CGPA\",\"Academic Pressure\",\"Work Pressure\",\"Financial Stress\"]])\n",
        "plt.show()"
      ],
      "metadata": {
        "id": "3xp6dADQx0_u"
      },
      "execution_count": null,
      "outputs": []
    }
  ]
}