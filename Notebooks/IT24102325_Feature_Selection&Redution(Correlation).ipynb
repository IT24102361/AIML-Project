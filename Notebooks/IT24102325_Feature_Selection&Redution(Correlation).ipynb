{
  "nbformat": 4,
  "nbformat_minor": 0,
  "metadata": {
    "colab": {
      "provenance": []
    },
    "kernelspec": {
      "name": "python3",
      "display_name": "Python 3"
    },
    "language_info": {
      "name": "python"
    }
  },
  "cells": [
    {
      "cell_type": "code",
      "execution_count": null,
      "metadata": {
        "id": "ynlFQgsQxVOe"
      },
      "outputs": [],
      "source": [
        "# -------------------------------\n",
        "# STEP: Correlation & Multicollinearity Check\n",
        "# -------------------------------\n",
        "import pandas as pd\n",
        "import numpy as np\n",
        "import seaborn as sns\n",
        "import matplotlib.pyplot as plt\n",
        "from statsmodels.stats.outliers_influence import variance_inflation_factor\n",
        "\n",
        "# 1. Correlation Heatmap\n",
        "plt.figure(figsize=(12,8))\n",
        "numeric_df = df.select_dtypes(include=[np.number])   # only numeric features\n",
        "corr = numeric_df.corr()\n",
        "\n",
        "sns.heatmap(corr, annot=False, cmap=\"coolwarm\", center=0)\n",
        "plt.title(\"Correlation Heatmap of Numeric Features\")\n",
        "plt.show()\n",
        "\n",
        "# 2. Variance Inflation Factor (VIF)\n",
        "# Drop target column if present\n",
        "X_vif = numeric_df.drop(columns=[\"Depression\"], errors=\"ignore\")\n",
        "\n",
        "vif_data = pd.DataFrame()\n",
        "vif_data[\"Feature\"] = X_vif.columns\n",
        "vif_data[\"VIF\"] = [variance_inflation_factor(X_vif.values, i) for i in range(X_vif.shape[1])]\n",
        "\n",
        "print(\"\\nVariance Inflation Factor (VIF):\")\n",
        "print(vif_data.sort_values(by=\"VIF\", ascending=False))"
      ]
    }
  ]
}