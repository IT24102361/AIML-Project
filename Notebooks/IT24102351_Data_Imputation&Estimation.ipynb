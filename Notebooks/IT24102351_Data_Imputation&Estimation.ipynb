{
  "nbformat": 4,
  "nbformat_minor": 0,
  "metadata": {
    "colab": {
      "provenance": []
    },
    "kernelspec": {
      "name": "python3",
      "display_name": "Python 3"
    },
    "language_info": {
      "name": "python"
    }
  },
  "cells": [
    {
      "cell_type": "code",
      "execution_count": null,
      "metadata": {
        "id": "e-Ycy_jjwskY"
      },
      "outputs": [],
      "source": [
        "from sklearn.model_selection import train_test_split\n",
        "from sklearn.linear_model import LinearRegression\n",
        "from sklearn.metrics import mean_squared_error, r2_score\n",
        "\n",
        "# Features and target\n",
        "X = df_pca.drop(columns=[\"Depression\"], errors=\"ignore\")\n",
        "y = df_pca[\"Depression\"]\n",
        "\n",
        "# Split train-test\n",
        "X_train, X_test, y_train, y_test = train_test_split(\n",
        "    X, y, test_size=0.2, random_state=42\n",
        ")\n",
        "\n",
        "# Train regression\n",
        "model = LinearRegression()\n",
        "model.fit(X_train, y_train)\n",
        "\n",
        "# Predict\n",
        "y_pred = model.predict(X_test)\n",
        "\n",
        "# Evaluation\n",
        "print(\"\\n--- Regression Evaluation ---\")\n",
        "print(\"Mean Squared Error:\", mean_squared_error(y_test, y_pred))\n",
        "print(\"R² Score:\", r2_score(y_test, y_pred))"
      ]
    },
    {
      "cell_type": "code",
      "source": [
        "# -------------------------------\n",
        "# STEP: Regression Visualization\n",
        "# -------------------------------\n",
        "import matplotlib.pyplot as plt\n",
        "import seaborn as sns\n",
        "\n",
        "# 1. Scatter plot: Actual vs Predicted\n",
        "plt.figure(figsize=(7,6))\n",
        "sns.scatterplot(x=y_test, y=y_pred, alpha=0.7)\n",
        "plt.plot([y_test.min(), y_test.max()], [y_test.min(), y_test.max()],\n",
        "         'r--', lw=2)  # ideal line\n",
        "plt.title(\"Actual vs Predicted Depression Scores\")\n",
        "plt.xlabel(\"Actual Depression\")\n",
        "plt.ylabel(\"Predicted Depression\")\n",
        "plt.show()\n",
        "\n",
        "# 2. Residuals plot\n",
        "residuals = y_test - y_pred\n",
        "plt.figure(figsize=(7,6))\n",
        "sns.scatterplot(x=y_pred, y=residuals, alpha=0.7)\n",
        "plt.axhline(0, color='red', linestyle='--')\n",
        "plt.title(\"Residuals vs Predicted Values\")\n",
        "plt.xlabel(\"Predicted Depression\")\n",
        "plt.ylabel(\"Residuals\")\n",
        "plt.show()\n",
        "\n",
        "# 3. Distribution of residuals\n",
        "plt.figure(figsize=(7,6))\n",
        "sns.histplot(residuals, kde=True, color=\"purple\", bins=20)\n",
        "plt.title(\"Distribution of Residuals\")\n",
        "plt.xlabel(\"Residual\")\n",
        "plt.ylabel(\"Frequency\")\n",
        "plt.show()\n"
      ],
      "metadata": {
        "id": "lBQU1ON_wt2E"
      },
      "execution_count": null,
      "outputs": []
    }
  ]
}